{
 "cells": [
  {
   "cell_type": "code",
   "execution_count": 186,
   "metadata": {},
   "outputs": [],
   "source": [
    "import pandas as pd\n",
    "import numpy as np\n",
    "import matplotlib.pyplot as plt\n",
    "from sklearn.linear_model import LinearRegression, Ridge, Lasso\n",
    "from sklearn import metrics\n",
    "from sklearn.ensemble import RandomForestRegressor\n",
    "import seaborn as sns\n",
    "from sklearn.preprocessing import StandardScaler\n",
    "from sklearn.model_selection import train_test_split\n",
    "from sklearn.model_selection import GridSearchCV"
   ]
  },
  {
   "cell_type": "code",
   "execution_count": 187,
   "metadata": {},
   "outputs": [],
   "source": [
    "# load datasets into DataFrames\n",
    "path = 'C:/Users/xinwa/OneDrive/Documents/Data Science/Capstone Project 2/data/'\n",
    "salaries_by_college_type_df = pd.read_csv(path+'salaries_by_college_type_cleaned.csv')\n",
    "salaries_by_region_df = pd.read_csv(path+'salaries_by_region_cleaned.csv')\n"
   ]
  },
  {
   "cell_type": "code",
   "execution_count": 188,
   "metadata": {},
   "outputs": [
    {
     "data": {
      "text/plain": [
       "((269, 6), (320, 6))"
      ]
     },
     "execution_count": 188,
     "metadata": {},
     "output_type": "execute_result"
    }
   ],
   "source": [
    "salaries_by_college_type_df.shape, salaries_by_region_df.shape"
   ]
  },
  {
   "cell_type": "code",
   "execution_count": 189,
   "metadata": {},
   "outputs": [
    {
     "data": {
      "text/plain": [
       "(Index(['School Name', 'School Type', 'Starting Median Salary',\n",
       "        'Mid-Career Median Salary', 'Mid-Career 25th Percentile Salary',\n",
       "        'Mid-Career 75th Percentile Salary'],\n",
       "       dtype='object'),\n",
       " Index(['School Name', 'Region', 'Starting Median Salary',\n",
       "        'Mid-Career Median Salary', 'Mid-Career 25th Percentile Salary',\n",
       "        'Mid-Career 75th Percentile Salary'],\n",
       "       dtype='object'))"
      ]
     },
     "execution_count": 189,
     "metadata": {},
     "output_type": "execute_result"
    }
   ],
   "source": [
    "salaries_by_college_type_df.columns, salaries_by_region_df.columns"
   ]
  },
  {
   "cell_type": "code",
   "execution_count": 190,
   "metadata": {},
   "outputs": [
    {
     "data": {
      "text/plain": [
       "248"
      ]
     },
     "execution_count": 190,
     "metadata": {},
     "output_type": "execute_result"
    }
   ],
   "source": [
    "school_names = set(salaries_by_college_type_df['School Name']).intersection(set(salaries_by_region_df['School Name']))\n",
    "len(school_names)"
   ]
  },
  {
   "cell_type": "code",
   "execution_count": 191,
   "metadata": {},
   "outputs": [
    {
     "data": {
      "text/plain": [
       "268"
      ]
     },
     "execution_count": 191,
     "metadata": {},
     "output_type": "execute_result"
    }
   ],
   "source": [
    "salaries_by_college_type_df['School Name'].isin(school_names).sum()"
   ]
  },
  {
   "cell_type": "code",
   "execution_count": 192,
   "metadata": {},
   "outputs": [
    {
     "data": {
      "text/plain": [
       "248"
      ]
     },
     "execution_count": 192,
     "metadata": {},
     "output_type": "execute_result"
    }
   ],
   "source": [
    "salaries_by_region_df['School Name'].isin(school_names).sum()"
   ]
  },
  {
   "cell_type": "code",
   "execution_count": 193,
   "metadata": {},
   "outputs": [
    {
     "data": {
      "text/html": [
       "<div>\n",
       "<style scoped>\n",
       "    .dataframe tbody tr th:only-of-type {\n",
       "        vertical-align: middle;\n",
       "    }\n",
       "\n",
       "    .dataframe tbody tr th {\n",
       "        vertical-align: top;\n",
       "    }\n",
       "\n",
       "    .dataframe thead th {\n",
       "        text-align: right;\n",
       "    }\n",
       "</style>\n",
       "<table border=\"1\" class=\"dataframe\">\n",
       "  <thead>\n",
       "    <tr style=\"text-align: right;\">\n",
       "      <th></th>\n",
       "      <th>School Name</th>\n",
       "      <th>School Type</th>\n",
       "      <th>Starting Median Salary</th>\n",
       "      <th>Mid-Career Median Salary</th>\n",
       "      <th>Mid-Career 25th Percentile Salary</th>\n",
       "      <th>Mid-Career 75th Percentile Salary</th>\n",
       "      <th>Region</th>\n",
       "    </tr>\n",
       "  </thead>\n",
       "  <tbody>\n",
       "    <tr>\n",
       "      <th>0</th>\n",
       "      <td>Massachusetts Institute of Technology (MIT)</td>\n",
       "      <td>Engineering</td>\n",
       "      <td>72200.0</td>\n",
       "      <td>126000.0</td>\n",
       "      <td>99200.0</td>\n",
       "      <td>168000.0</td>\n",
       "      <td>Northeastern</td>\n",
       "    </tr>\n",
       "    <tr>\n",
       "      <th>1</th>\n",
       "      <td>California Institute of Technology (CIT)</td>\n",
       "      <td>Engineering</td>\n",
       "      <td>75500.0</td>\n",
       "      <td>123000.0</td>\n",
       "      <td>104000.0</td>\n",
       "      <td>161000.0</td>\n",
       "      <td>California</td>\n",
       "    </tr>\n",
       "    <tr>\n",
       "      <th>2</th>\n",
       "      <td>Harvey Mudd College</td>\n",
       "      <td>Engineering</td>\n",
       "      <td>71800.0</td>\n",
       "      <td>122000.0</td>\n",
       "      <td>96000.0</td>\n",
       "      <td>180000.0</td>\n",
       "      <td>California</td>\n",
       "    </tr>\n",
       "    <tr>\n",
       "      <th>3</th>\n",
       "      <td>Polytechnic University of New York, Brooklyn</td>\n",
       "      <td>Engineering</td>\n",
       "      <td>62400.0</td>\n",
       "      <td>114000.0</td>\n",
       "      <td>94300.0</td>\n",
       "      <td>143000.0</td>\n",
       "      <td>Northeastern</td>\n",
       "    </tr>\n",
       "    <tr>\n",
       "      <th>4</th>\n",
       "      <td>Cooper Union</td>\n",
       "      <td>Engineering</td>\n",
       "      <td>62200.0</td>\n",
       "      <td>114000.0</td>\n",
       "      <td>80200.0</td>\n",
       "      <td>142000.0</td>\n",
       "      <td>Northeastern</td>\n",
       "    </tr>\n",
       "  </tbody>\n",
       "</table>\n",
       "</div>"
      ],
      "text/plain": [
       "                                    School Name  School Type  \\\n",
       "0   Massachusetts Institute of Technology (MIT)  Engineering   \n",
       "1      California Institute of Technology (CIT)  Engineering   \n",
       "2                           Harvey Mudd College  Engineering   \n",
       "3  Polytechnic University of New York, Brooklyn  Engineering   \n",
       "4                                  Cooper Union  Engineering   \n",
       "\n",
       "   Starting Median Salary  Mid-Career Median Salary  \\\n",
       "0                 72200.0                  126000.0   \n",
       "1                 75500.0                  123000.0   \n",
       "2                 71800.0                  122000.0   \n",
       "3                 62400.0                  114000.0   \n",
       "4                 62200.0                  114000.0   \n",
       "\n",
       "   Mid-Career 25th Percentile Salary  Mid-Career 75th Percentile Salary  \\\n",
       "0                            99200.0                           168000.0   \n",
       "1                           104000.0                           161000.0   \n",
       "2                            96000.0                           180000.0   \n",
       "3                            94300.0                           143000.0   \n",
       "4                            80200.0                           142000.0   \n",
       "\n",
       "         Region  \n",
       "0  Northeastern  \n",
       "1    California  \n",
       "2    California  \n",
       "3  Northeastern  \n",
       "4  Northeastern  "
      ]
     },
     "execution_count": 193,
     "metadata": {},
     "output_type": "execute_result"
    }
   ],
   "source": [
    "merged_college_type_region_df = salaries_by_college_type_df.merge(salaries_by_region_df, how='inner', \\\n",
    "                                                                 on = ['School Name', 'Starting Median Salary', \\\n",
    "                                                                       'Mid-Career Median Salary', \\\n",
    "                                                                       'Mid-Career 25th Percentile Salary', \\\n",
    "                                                                       'Mid-Career 75th Percentile Salary'])\n",
    "merged_college_type_region_df.head()\n"
   ]
  },
  {
   "cell_type": "code",
   "execution_count": 194,
   "metadata": {},
   "outputs": [
    {
     "data": {
      "text/plain": [
       "(266, 7)"
      ]
     },
     "execution_count": 194,
     "metadata": {},
     "output_type": "execute_result"
    }
   ],
   "source": [
    "merged_college_type_region_df.shape"
   ]
  },
  {
   "cell_type": "code",
   "execution_count": 195,
   "metadata": {},
   "outputs": [
    {
     "data": {
      "text/plain": [
       "Index(['School Name', 'School Type', 'Starting Median Salary',\n",
       "       'Mid-Career Median Salary', 'Mid-Career 25th Percentile Salary',\n",
       "       'Mid-Career 75th Percentile Salary', 'Region'],\n",
       "      dtype='object')"
      ]
     },
     "execution_count": 195,
     "metadata": {},
     "output_type": "execute_result"
    }
   ],
   "source": [
    "merged_college_type_region_df.columns"
   ]
  },
  {
   "cell_type": "code",
   "execution_count": 196,
   "metadata": {},
   "outputs": [],
   "source": [
    "# Linear Regression model without scaling and categorical columns\n",
    "X = merged_college_type_region_df.drop(['School Name', 'School Type', 'Region', 'Mid-Career Median Salary'], axis=1)\n",
    "y = merged_college_type_region_df['Mid-Career Median Salary']\n",
    "#trian/test split\n",
    "X_train, X_test, y_train, y_test = train_test_split(X, y, test_size=0.3, random_state=42)"
   ]
  },
  {
   "cell_type": "code",
   "execution_count": 197,
   "metadata": {},
   "outputs": [],
   "source": [
    "# fit model on training data, make prediction on testing data and print metrics for model\n",
    "def model_test(models, X_train, X_test, y_train, y_test):\n",
    "    metrics_results = {}\n",
    "    for model in models:\n",
    "       models[model].fit(X_train, y_train)\n",
    "       y_pred = models[model].predict(X_test)\n",
    "       metrics_results[model] = {'r2_score': metrics.r2_score(y_test, y_pred), \\\n",
    "                                 'Mean absolute error': metrics.mean_absolute_error(y_test, y_pred), \\\n",
    "                                 'Mean squared error': metrics.mean_squared_error(y_test, y_pred), \\\n",
    "                                 'Square root of mean squared error': np.sqrt(metrics.mean_squared_error(y_test, y_pred)) \\\n",
    "                                }\n",
    "    return pd.DataFrame(metrics_results)"
   ]
  },
  {
   "cell_type": "code",
   "execution_count": 198,
   "metadata": {},
   "outputs": [
    {
     "data": {
      "text/html": [
       "<div>\n",
       "<style scoped>\n",
       "    .dataframe tbody tr th:only-of-type {\n",
       "        vertical-align: middle;\n",
       "    }\n",
       "\n",
       "    .dataframe tbody tr th {\n",
       "        vertical-align: top;\n",
       "    }\n",
       "\n",
       "    .dataframe thead th {\n",
       "        text-align: right;\n",
       "    }\n",
       "</style>\n",
       "<table border=\"1\" class=\"dataframe\">\n",
       "  <thead>\n",
       "    <tr style=\"text-align: right;\">\n",
       "      <th></th>\n",
       "      <th>OLS</th>\n",
       "      <th>Lasso</th>\n",
       "      <th>Ridge</th>\n",
       "      <th>RandomForest</th>\n",
       "    </tr>\n",
       "  </thead>\n",
       "  <tbody>\n",
       "    <tr>\n",
       "      <th>r2_score</th>\n",
       "      <td>9.433246e-01</td>\n",
       "      <td>9.433246e-01</td>\n",
       "      <td>9.433246e-01</td>\n",
       "      <td>9.413068e-01</td>\n",
       "    </tr>\n",
       "    <tr>\n",
       "      <th>Mean absolute error</th>\n",
       "      <td>2.234160e+03</td>\n",
       "      <td>2.234160e+03</td>\n",
       "      <td>2.234160e+03</td>\n",
       "      <td>2.295450e+03</td>\n",
       "    </tr>\n",
       "    <tr>\n",
       "      <th>Mean squared error</th>\n",
       "      <td>9.537031e+06</td>\n",
       "      <td>9.537031e+06</td>\n",
       "      <td>9.537031e+06</td>\n",
       "      <td>9.876582e+06</td>\n",
       "    </tr>\n",
       "    <tr>\n",
       "      <th>Square root of mean squared error</th>\n",
       "      <td>3.088208e+03</td>\n",
       "      <td>3.088208e+03</td>\n",
       "      <td>3.088208e+03</td>\n",
       "      <td>3.142703e+03</td>\n",
       "    </tr>\n",
       "  </tbody>\n",
       "</table>\n",
       "</div>"
      ],
      "text/plain": [
       "                                            OLS         Lasso         Ridge  \\\n",
       "r2_score                           9.433246e-01  9.433246e-01  9.433246e-01   \n",
       "Mean absolute error                2.234160e+03  2.234160e+03  2.234160e+03   \n",
       "Mean squared error                 9.537031e+06  9.537031e+06  9.537031e+06   \n",
       "Square root of mean squared error  3.088208e+03  3.088208e+03  3.088208e+03   \n",
       "\n",
       "                                   RandomForest  \n",
       "r2_score                           9.413068e-01  \n",
       "Mean absolute error                2.295450e+03  \n",
       "Mean squared error                 9.876582e+06  \n",
       "Square root of mean squared error  3.142703e+03  "
      ]
     },
     "execution_count": 198,
     "metadata": {},
     "output_type": "execute_result"
    }
   ],
   "source": [
    "# models with default settings and train and test on original data\n",
    "\n",
    "models = {'OLS' : LinearRegression(), \\\n",
    "          'Lasso' : Lasso(), \\\n",
    "          'Ridge' : Ridge(), \\\n",
    "          'RandomForest' : RandomForestRegressor(random_state=42)\\\n",
    "         }\n",
    "model_test(models, X_train, X_test, y_train, y_test)"
   ]
  },
  {
   "cell_type": "code",
   "execution_count": 199,
   "metadata": {},
   "outputs": [
    {
     "data": {
      "text/html": [
       "<div>\n",
       "<style scoped>\n",
       "    .dataframe tbody tr th:only-of-type {\n",
       "        vertical-align: middle;\n",
       "    }\n",
       "\n",
       "    .dataframe tbody tr th {\n",
       "        vertical-align: top;\n",
       "    }\n",
       "\n",
       "    .dataframe thead th {\n",
       "        text-align: right;\n",
       "    }\n",
       "</style>\n",
       "<table border=\"1\" class=\"dataframe\">\n",
       "  <thead>\n",
       "    <tr style=\"text-align: right;\">\n",
       "      <th></th>\n",
       "      <th>OLS</th>\n",
       "      <th>Lasso</th>\n",
       "      <th>Ridge</th>\n",
       "      <th>RandomForest</th>\n",
       "    </tr>\n",
       "  </thead>\n",
       "  <tbody>\n",
       "    <tr>\n",
       "      <th>r2_score</th>\n",
       "      <td>9.433246e-01</td>\n",
       "      <td>9.433256e-01</td>\n",
       "      <td>9.433451e-01</td>\n",
       "      <td>9.391075e-01</td>\n",
       "    </tr>\n",
       "    <tr>\n",
       "      <th>Mean absolute error</th>\n",
       "      <td>2.234160e+03</td>\n",
       "      <td>2.234201e+03</td>\n",
       "      <td>2.235478e+03</td>\n",
       "      <td>2.368213e+03</td>\n",
       "    </tr>\n",
       "    <tr>\n",
       "      <th>Mean squared error</th>\n",
       "      <td>9.537031e+06</td>\n",
       "      <td>9.536871e+06</td>\n",
       "      <td>9.533588e+06</td>\n",
       "      <td>1.024667e+07</td>\n",
       "    </tr>\n",
       "    <tr>\n",
       "      <th>Square root of mean squared error</th>\n",
       "      <td>3.088208e+03</td>\n",
       "      <td>3.088182e+03</td>\n",
       "      <td>3.087651e+03</td>\n",
       "      <td>3.201042e+03</td>\n",
       "    </tr>\n",
       "  </tbody>\n",
       "</table>\n",
       "</div>"
      ],
      "text/plain": [
       "                                            OLS         Lasso         Ridge  \\\n",
       "r2_score                           9.433246e-01  9.433256e-01  9.433451e-01   \n",
       "Mean absolute error                2.234160e+03  2.234201e+03  2.235478e+03   \n",
       "Mean squared error                 9.537031e+06  9.536871e+06  9.533588e+06   \n",
       "Square root of mean squared error  3.088208e+03  3.088182e+03  3.087651e+03   \n",
       "\n",
       "                                   RandomForest  \n",
       "r2_score                           9.391075e-01  \n",
       "Mean absolute error                2.368213e+03  \n",
       "Mean squared error                 1.024667e+07  \n",
       "Square root of mean squared error  3.201042e+03  "
      ]
     },
     "execution_count": 199,
     "metadata": {},
     "output_type": "execute_result"
    }
   ],
   "source": [
    "# models with default settings and train and test on scaled data\n",
    "scaler = StandardScaler()\n",
    "scaler.fit(X_train)\n",
    "X_train_scaled = scaler.transform(X_train)\n",
    "X_test_scaled = scaler.transform(X_test)\n",
    "model_test(models, X_train_scaled, X_test_scaled, y_train, y_test)"
   ]
  },
  {
   "cell_type": "code",
   "execution_count": 200,
   "metadata": {},
   "outputs": [],
   "source": [
    "def gridsearchcv(estimator, param_grid, X_train, y_train):\n",
    "    grid = GridSearchCV(estimator, param_grid = param_grid)\n",
    "    grid.fit(X_train, y_train)\n",
    "    return grid.best_params_, grid.best_estimator_"
   ]
  },
  {
   "cell_type": "code",
   "execution_count": 201,
   "metadata": {},
   "outputs": [
    {
     "data": {
      "text/plain": [
       "(({'alpha': 1}, Lasso(alpha=1)),\n",
       " ({'alpha': 1}, Ridge(alpha=1)),\n",
       " ({'n_estimators': 40},\n",
       "  RandomForestRegressor(n_estimators=40, random_state=42)))"
      ]
     },
     "execution_count": 201,
     "metadata": {},
     "output_type": "execute_result"
    }
   ],
   "source": [
    "# Using GridSearchCV to tune hyperparameters for models \n",
    "lasso_alpha = {'alpha': [0.001, 0.005, 0.015, 0.025, 0.035, 0.045, 0.055,  1, 1.5, 2.5, 3, 5, 10]}\n",
    "ridge_alpha = {'alpha': [0, 0.1, 0.5, 1, 10, 50, 100, 150, 200, 250, 300, 350, 400, 450, 500]}\n",
    "rf_params = {'n_estimators': [3, 5, 10, 20, 30, 40, 50, 60, 70, 80, 90, 100, 150, 200]}\n",
    "lasso_best_params, lasso_best_estimator = gridsearchcv(Lasso(), lasso_alpha, X_train_scaled, y_train)\n",
    "ridge_best_params, ridge_best_estimator = gridsearchcv(Ridge(), ridge_alpha, X_train_scaled, y_train)\n",
    "rf_best_params, rf_best_estimator = gridsearchcv(RandomForestRegressor(random_state=42), rf_params, X_train, y_train)\n",
    "(lasso_best_params, lasso_best_estimator), (ridge_best_params, ridge_best_estimator), (rf_best_params, rf_best_estimator)"
   ]
  },
  {
   "cell_type": "code",
   "execution_count": 202,
   "metadata": {},
   "outputs": [
    {
     "data": {
      "text/html": [
       "<div>\n",
       "<style scoped>\n",
       "    .dataframe tbody tr th:only-of-type {\n",
       "        vertical-align: middle;\n",
       "    }\n",
       "\n",
       "    .dataframe tbody tr th {\n",
       "        vertical-align: top;\n",
       "    }\n",
       "\n",
       "    .dataframe thead th {\n",
       "        text-align: right;\n",
       "    }\n",
       "</style>\n",
       "<table border=\"1\" class=\"dataframe\">\n",
       "  <thead>\n",
       "    <tr style=\"text-align: right;\">\n",
       "      <th></th>\n",
       "      <th>OLS</th>\n",
       "      <th>Lasso</th>\n",
       "      <th>Ridge</th>\n",
       "      <th>RandomForest</th>\n",
       "    </tr>\n",
       "  </thead>\n",
       "  <tbody>\n",
       "    <tr>\n",
       "      <th>r2_score</th>\n",
       "      <td>9.433246e-01</td>\n",
       "      <td>9.433256e-01</td>\n",
       "      <td>9.433451e-01</td>\n",
       "      <td>9.391075e-01</td>\n",
       "    </tr>\n",
       "    <tr>\n",
       "      <th>Mean absolute error</th>\n",
       "      <td>2.234160e+03</td>\n",
       "      <td>2.234201e+03</td>\n",
       "      <td>2.235478e+03</td>\n",
       "      <td>2.368213e+03</td>\n",
       "    </tr>\n",
       "    <tr>\n",
       "      <th>Mean squared error</th>\n",
       "      <td>9.537031e+06</td>\n",
       "      <td>9.536871e+06</td>\n",
       "      <td>9.533588e+06</td>\n",
       "      <td>1.024667e+07</td>\n",
       "    </tr>\n",
       "    <tr>\n",
       "      <th>Square root of mean squared error</th>\n",
       "      <td>3.088208e+03</td>\n",
       "      <td>3.088182e+03</td>\n",
       "      <td>3.087651e+03</td>\n",
       "      <td>3.201042e+03</td>\n",
       "    </tr>\n",
       "  </tbody>\n",
       "</table>\n",
       "</div>"
      ],
      "text/plain": [
       "                                            OLS         Lasso         Ridge  \\\n",
       "r2_score                           9.433246e-01  9.433256e-01  9.433451e-01   \n",
       "Mean absolute error                2.234160e+03  2.234201e+03  2.235478e+03   \n",
       "Mean squared error                 9.537031e+06  9.536871e+06  9.533588e+06   \n",
       "Square root of mean squared error  3.088208e+03  3.088182e+03  3.087651e+03   \n",
       "\n",
       "                                   RandomForest  \n",
       "r2_score                           9.391075e-01  \n",
       "Mean absolute error                2.368213e+03  \n",
       "Mean squared error                 1.024667e+07  \n",
       "Square root of mean squared error  3.201042e+03  "
      ]
     },
     "execution_count": 202,
     "metadata": {},
     "output_type": "execute_result"
    }
   ],
   "source": [
    "models_tuned = {'OLS' : LinearRegression(), \\\n",
    "          'Lasso' : lasso_best_estimator, \\\n",
    "          'Ridge' : ridge_best_estimator,  \\\n",
    "          'RandomForest' : rf_best_estimator  \\\n",
    "         }\n",
    "model_test(models, X_train_scaled, X_test_scaled, y_train, y_test)"
   ]
  },
  {
   "cell_type": "markdown",
   "metadata": {},
   "source": [
    "Conclusion: \n",
    "By observing the metrics for different models, we can conclude that Linear Models perform better than Random Forest Models."
   ]
  },
  {
   "cell_type": "code",
   "execution_count": 203,
   "metadata": {},
   "outputs": [
    {
     "data": {
      "text/plain": [
       "<AxesSubplot:>"
      ]
     },
     "execution_count": 203,
     "metadata": {},
     "output_type": "execute_result"
    },
    {
     "data": {
      "image/png": "[encoded data removed]",
      "text/plain": [
       "<Figure size 432x288 with 2 Axes>"
      ]
     },
     "metadata": {
      "needs_background": "light"
     },
     "output_type": "display_data"
    }
   ],
   "source": [
    "sns.heatmap(merged_college_type_region_df.corr(), annot=True)"
   ]
  },
  {
   "cell_type": "code",
   "execution_count": 204,
   "metadata": {},
   "outputs": [
    {
     "data": {
      "text/plain": [
       "Index(['Starting Median Salary', 'Mid-Career 25th Percentile Salary',\n",
       "       'Mid-Career 75th Percentile Salary'],\n",
       "      dtype='object')"
      ]
     },
     "execution_count": 204,
     "metadata": {},
     "output_type": "execute_result"
    }
   ],
   "source": [
    "#use Starting Median Salary predicting Mid-Career Median Salary by Linear Model\n",
    "X_train.columns"
   ]
  },
  {
   "cell_type": "code",
   "execution_count": 205,
   "metadata": {},
   "outputs": [],
   "source": [
    "X_median_train = X_train[['Starting Median Salary']]\n",
    "X_median_test = X_test[['Starting Median Salary']]"
   ]
  },
  {
   "cell_type": "code",
   "execution_count": 206,
   "metadata": {},
   "outputs": [
    {
     "data": {
      "text/html": [
       "<div>\n",
       "<style scoped>\n",
       "    .dataframe tbody tr th:only-of-type {\n",
       "        vertical-align: middle;\n",
       "    }\n",
       "\n",
       "    .dataframe tbody tr th {\n",
       "        vertical-align: top;\n",
       "    }\n",
       "\n",
       "    .dataframe thead th {\n",
       "        text-align: right;\n",
       "    }\n",
       "</style>\n",
       "<table border=\"1\" class=\"dataframe\">\n",
       "  <thead>\n",
       "    <tr style=\"text-align: right;\">\n",
       "      <th></th>\n",
       "      <th>OLS</th>\n",
       "    </tr>\n",
       "  </thead>\n",
       "  <tbody>\n",
       "    <tr>\n",
       "      <th>Mean absolute error</th>\n",
       "      <td>4.593745e+03</td>\n",
       "    </tr>\n",
       "    <tr>\n",
       "      <th>Mean squared error</th>\n",
       "      <td>3.672695e+07</td>\n",
       "    </tr>\n",
       "    <tr>\n",
       "      <th>Square root of mean squared error</th>\n",
       "      <td>6.060276e+03</td>\n",
       "    </tr>\n",
       "    <tr>\n",
       "      <th>r2_score</th>\n",
       "      <td>7.817441e-01</td>\n",
       "    </tr>\n",
       "  </tbody>\n",
       "</table>\n",
       "</div>"
      ],
      "text/plain": [
       "                                            OLS\n",
       "Mean absolute error                4.593745e+03\n",
       "Mean squared error                 3.672695e+07\n",
       "Square root of mean squared error  6.060276e+03\n",
       "r2_score                           7.817441e-01"
      ]
     },
     "execution_count": 206,
     "metadata": {},
     "output_type": "execute_result"
    }
   ],
   "source": [
    "model = {'OLS':LinearRegression()}\n",
    "model_test(model, X_median_train, X_median_test, y_train, y_test)"
   ]
  },
  {
   "cell_type": "code",
   "execution_count": 207,
   "metadata": {},
   "outputs": [
    {
     "data": {
      "text/plain": [
       "dict_keys(['memory', 'steps', 'verbose', 'selectkbest', 'linearregression', 'selectkbest__k', 'selectkbest__score_func', 'linearregression__copy_X', 'linearregression__fit_intercept', 'linearregression__n_jobs', 'linearregression__normalize'])"
      ]
     },
     "execution_count": 207,
     "metadata": {},
     "output_type": "execute_result"
    }
   ],
   "source": [
    "from sklearn.feature_selection import SelectKBest, f_regression\n",
    "from sklearn.pipeline import make_pipeline\n",
    "pipe = make_pipeline(SelectKBest(f_regression), \\\n",
    "                    LinearRegression())\n",
    "#pipe.fit(X_median_train, y_train)\n",
    "pipe.get_params().keys()"
   ]
  },
  {
   "cell_type": "code",
   "execution_count": 208,
   "metadata": {},
   "outputs": [
    {
     "data": {
      "text/plain": [
       "GridSearchCV(cv=5,\n",
       "             estimator=Pipeline(steps=[('selectkbest',\n",
       "                                        SelectKBest(score_func=<function f_regression at 0x0000024A6F2720D0>)),\n",
       "                                       ('linearregression',\n",
       "                                        LinearRegression())]),\n",
       "             n_jobs=-1, param_grid={'selectkbest__k': [1, 2, 3]})"
      ]
     },
     "execution_count": 208,
     "metadata": {},
     "output_type": "execute_result"
    }
   ],
   "source": [
    "k = [k+1 for k in range(len(X_train.columns))]\n",
    "grid_params = {'selectkbest__k' : k}\n",
    "lm_grid_cv = GridSearchCV(pipe, param_grid=grid_params, cv = 5, n_jobs = -1)\n",
    "lm_grid_cv.fit(X_train, y_train)"
   ]
  },
  {
   "cell_type": "code",
   "execution_count": 209,
   "metadata": {},
   "outputs": [
    {
     "data": {
      "text/plain": [
       "({'selectkbest__k': 3},\n",
       " Pipeline(steps=[('selectkbest',\n",
       "                  SelectKBest(k=3,\n",
       "                              score_func=<function f_regression at 0x0000024A6F2720D0>)),\n",
       "                 ('linearregression', LinearRegression())]))"
      ]
     },
     "execution_count": 209,
     "metadata": {},
     "output_type": "execute_result"
    }
   ],
   "source": [
    "best_k = lm_grid_cv.best_params_\n",
    "estimator = lm_grid_cv.best_estimator_\n",
    "best_k, estimator"
   ]
  },
  {
   "cell_type": "code",
   "execution_count": 210,
   "metadata": {},
   "outputs": [
    {
     "data": {
      "text/plain": [
       "Mid-Career 25th Percentile Salary    0.501139\n",
       "Starting Median Salary               0.351198\n",
       "Mid-Career 75th Percentile Salary    0.308018\n",
       "dtype: float64"
      ]
     },
     "execution_count": 210,
     "metadata": {},
     "output_type": "execute_result"
    }
   ],
   "source": [
    "# selected = lm_grid_cv.best_estimator_.named_steps.selectkbest.get_support()\n",
    "features = X_train.columns[selected]\n",
    "coefs = lm_grid_cv.best_estimator_.named_steps.linearregression.coef_\n",
    "pd.Series(coefs, index=features).sort_values(ascending=False)"
   ]
  }
 ],
 "metadata": {
  "kernelspec": {
   "display_name": "Python 3",
   "language": "python",
   "name": "python3"
  },
  "language_info": {
   "codemirror_mode": {
    "name": "ipython",
    "version": 3
   },
   "file_extension": ".py",
   "mimetype": "text/x-python",
   "name": "python",
   "nbconvert_exporter": "python",
   "pygments_lexer": "ipython3",
   "version": "3.8.5"
  }
 },
 "nbformat": 4,
 "nbformat_minor": 4
}
