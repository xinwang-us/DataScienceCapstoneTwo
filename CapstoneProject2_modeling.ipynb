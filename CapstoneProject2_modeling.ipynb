{
 "cells": [
  {
   "cell_type": "code",
   "execution_count": 56,
   "metadata": {},
   "outputs": [],
   "source": [
    "import pandas as pd\n",
    "import numpy as np\n",
    "import matplotlib.pyplot as plt\n",
    "from sklearn.linear_model import LinearRegression\n",
    "from sklearn import metrics\n",
    "from sklearn.ensemble import RandomForestRegressor\n",
    "from sklearn.preprocessing import StandardScaler\n",
    "from sklearn.model_selection import train_test_split\n",
    "from sklearn.model_selection import GridSearchCV"
   ]
  },
  {
   "cell_type": "code",
   "execution_count": 57,
   "metadata": {},
   "outputs": [],
   "source": [
    "# load datasets into DataFrames\n",
    "path = 'C:/Users/xinwa/OneDrive/Documents/Data Science/Capstone Project 2/data/'\n",
    "salaries_by_college_type_df = pd.read_csv(path+'salaries_by_college_type_cleaned.csv')\n",
    "salaries_by_region_df = pd.read_csv(path+'salaries_by_region_cleaned.csv')\n"
   ]
  },
  {
   "cell_type": "code",
   "execution_count": 58,
   "metadata": {},
   "outputs": [
    {
     "data": {
      "text/plain": [
       "((269, 6), (320, 6))"
      ]
     },
     "execution_count": 58,
     "metadata": {},
     "output_type": "execute_result"
    }
   ],
   "source": [
    "salaries_by_college_type_df.shape, salaries_by_region_df.shape"
   ]
  },
  {
   "cell_type": "code",
   "execution_count": 59,
   "metadata": {},
   "outputs": [
    {
     "data": {
      "text/plain": [
       "(Index(['School Name', 'School Type', 'Starting Median Salary',\n",
       "        'Mid-Career Median Salary', 'Mid-Career 25th Percentile Salary',\n",
       "        'Mid-Career 75th Percentile Salary'],\n",
       "       dtype='object'),\n",
       " Index(['School Name', 'Region', 'Starting Median Salary',\n",
       "        'Mid-Career Median Salary', 'Mid-Career 25th Percentile Salary',\n",
       "        'Mid-Career 75th Percentile Salary'],\n",
       "       dtype='object'))"
      ]
     },
     "execution_count": 59,
     "metadata": {},
     "output_type": "execute_result"
    }
   ],
   "source": [
    "salaries_by_college_type_df.columns, salaries_by_region_df.columns"
   ]
  },
  {
   "cell_type": "code",
   "execution_count": 60,
   "metadata": {},
   "outputs": [
    {
     "data": {
      "text/plain": [
       "248"
      ]
     },
     "execution_count": 60,
     "metadata": {},
     "output_type": "execute_result"
    }
   ],
   "source": [
    "school_names = set(salaries_by_college_type_df['School Name']).intersection(set(salaries_by_region_df['School Name']))\n",
    "len(school_names)"
   ]
  },
  {
   "cell_type": "code",
   "execution_count": 61,
   "metadata": {},
   "outputs": [
    {
     "data": {
      "text/plain": [
       "268"
      ]
     },
     "execution_count": 61,
     "metadata": {},
     "output_type": "execute_result"
    }
   ],
   "source": [
    "salaries_by_college_type_df['School Name'].isin(school_names).sum()"
   ]
  },
  {
   "cell_type": "code",
   "execution_count": 62,
   "metadata": {},
   "outputs": [
    {
     "data": {
      "text/plain": [
       "248"
      ]
     },
     "execution_count": 62,
     "metadata": {},
     "output_type": "execute_result"
    }
   ],
   "source": [
    "salaries_by_region_df['School Name'].isin(school_names).sum()"
   ]
  },
  {
   "cell_type": "code",
   "execution_count": 63,
   "metadata": {},
   "outputs": [
    {
     "data": {
      "text/html": [
       "<div>\n",
       "<style scoped>\n",
       "    .dataframe tbody tr th:only-of-type {\n",
       "        vertical-align: middle;\n",
       "    }\n",
       "\n",
       "    .dataframe tbody tr th {\n",
       "        vertical-align: top;\n",
       "    }\n",
       "\n",
       "    .dataframe thead th {\n",
       "        text-align: right;\n",
       "    }\n",
       "</style>\n",
       "<table border=\"1\" class=\"dataframe\">\n",
       "  <thead>\n",
       "    <tr style=\"text-align: right;\">\n",
       "      <th></th>\n",
       "      <th>School Name</th>\n",
       "      <th>School Type</th>\n",
       "      <th>Starting Median Salary</th>\n",
       "      <th>Mid-Career Median Salary</th>\n",
       "      <th>Mid-Career 25th Percentile Salary</th>\n",
       "      <th>Mid-Career 75th Percentile Salary</th>\n",
       "      <th>Region</th>\n",
       "    </tr>\n",
       "  </thead>\n",
       "  <tbody>\n",
       "    <tr>\n",
       "      <th>0</th>\n",
       "      <td>Massachusetts Institute of Technology (MIT)</td>\n",
       "      <td>Engineering</td>\n",
       "      <td>72200.0</td>\n",
       "      <td>126000.0</td>\n",
       "      <td>99200.0</td>\n",
       "      <td>168000.0</td>\n",
       "      <td>Northeastern</td>\n",
       "    </tr>\n",
       "    <tr>\n",
       "      <th>1</th>\n",
       "      <td>California Institute of Technology (CIT)</td>\n",
       "      <td>Engineering</td>\n",
       "      <td>75500.0</td>\n",
       "      <td>123000.0</td>\n",
       "      <td>104000.0</td>\n",
       "      <td>161000.0</td>\n",
       "      <td>California</td>\n",
       "    </tr>\n",
       "    <tr>\n",
       "      <th>2</th>\n",
       "      <td>Harvey Mudd College</td>\n",
       "      <td>Engineering</td>\n",
       "      <td>71800.0</td>\n",
       "      <td>122000.0</td>\n",
       "      <td>96000.0</td>\n",
       "      <td>180000.0</td>\n",
       "      <td>California</td>\n",
       "    </tr>\n",
       "    <tr>\n",
       "      <th>3</th>\n",
       "      <td>Polytechnic University of New York, Brooklyn</td>\n",
       "      <td>Engineering</td>\n",
       "      <td>62400.0</td>\n",
       "      <td>114000.0</td>\n",
       "      <td>94300.0</td>\n",
       "      <td>143000.0</td>\n",
       "      <td>Northeastern</td>\n",
       "    </tr>\n",
       "    <tr>\n",
       "      <th>4</th>\n",
       "      <td>Cooper Union</td>\n",
       "      <td>Engineering</td>\n",
       "      <td>62200.0</td>\n",
       "      <td>114000.0</td>\n",
       "      <td>80200.0</td>\n",
       "      <td>142000.0</td>\n",
       "      <td>Northeastern</td>\n",
       "    </tr>\n",
       "  </tbody>\n",
       "</table>\n",
       "</div>"
      ],
      "text/plain": [
       "                                    School Name  School Type  \\\n",
       "0   Massachusetts Institute of Technology (MIT)  Engineering   \n",
       "1      California Institute of Technology (CIT)  Engineering   \n",
       "2                           Harvey Mudd College  Engineering   \n",
       "3  Polytechnic University of New York, Brooklyn  Engineering   \n",
       "4                                  Cooper Union  Engineering   \n",
       "\n",
       "   Starting Median Salary  Mid-Career Median Salary  \\\n",
       "0                 72200.0                  126000.0   \n",
       "1                 75500.0                  123000.0   \n",
       "2                 71800.0                  122000.0   \n",
       "3                 62400.0                  114000.0   \n",
       "4                 62200.0                  114000.0   \n",
       "\n",
       "   Mid-Career 25th Percentile Salary  Mid-Career 75th Percentile Salary  \\\n",
       "0                            99200.0                           168000.0   \n",
       "1                           104000.0                           161000.0   \n",
       "2                            96000.0                           180000.0   \n",
       "3                            94300.0                           143000.0   \n",
       "4                            80200.0                           142000.0   \n",
       "\n",
       "         Region  \n",
       "0  Northeastern  \n",
       "1    California  \n",
       "2    California  \n",
       "3  Northeastern  \n",
       "4  Northeastern  "
      ]
     },
     "execution_count": 63,
     "metadata": {},
     "output_type": "execute_result"
    }
   ],
   "source": [
    "merged_college_type_region_df = salaries_by_college_type_df.merge(salaries_by_region_df, how='inner', \\\n",
    "                                                                 on = ['School Name', 'Starting Median Salary', \\\n",
    "                                                                       'Mid-Career Median Salary', \\\n",
    "                                                                       'Mid-Career 25th Percentile Salary', \\\n",
    "                                                                       'Mid-Career 75th Percentile Salary'])\n",
    "merged_college_type_region_df.head()\n"
   ]
  },
  {
   "cell_type": "code",
   "execution_count": 64,
   "metadata": {},
   "outputs": [
    {
     "data": {
      "text/plain": [
       "(266, 7)"
      ]
     },
     "execution_count": 64,
     "metadata": {},
     "output_type": "execute_result"
    }
   ],
   "source": [
    "merged_college_type_region_df.shape"
   ]
  },
  {
   "cell_type": "code",
   "execution_count": 65,
   "metadata": {},
   "outputs": [
    {
     "data": {
      "text/plain": [
       "Index(['School Name', 'School Type', 'Starting Median Salary',\n",
       "       'Mid-Career Median Salary', 'Mid-Career 25th Percentile Salary',\n",
       "       'Mid-Career 75th Percentile Salary', 'Region'],\n",
       "      dtype='object')"
      ]
     },
     "execution_count": 65,
     "metadata": {},
     "output_type": "execute_result"
    }
   ],
   "source": [
    "merged_college_type_region_df.columns"
   ]
  },
  {
   "cell_type": "code",
   "execution_count": 66,
   "metadata": {},
   "outputs": [],
   "source": [
    "# Linear Regression model without scaling and categorical columns\n",
    "X = pd.get_dummies(merged_college_type_region_df.drop(['School Name', 'Mid-Career 25th Percentile Salary', \\\n",
    "       'Mid-Career 75th Percentile Salary', 'Mid-Career Median Salary'], axis=1), columns=['School Type', 'Region'])\n",
    "y = merged_college_type_region_df['Mid-Career Median Salary']\n",
    "#trian/test split\n",
    "X_train, X_test, y_train, y_test = train_test_split(X, y, test_size=0.3, random_state=42)"
   ]
  },
  {
   "cell_type": "code",
   "execution_count": 67,
   "metadata": {},
   "outputs": [],
   "source": [
    "# fit model on training data, make prediction on testing data and print metrics for model\n",
    "def model_test(models, X_train, X_test, y_train, y_test):\n",
    "    metrics_results = {}\n",
    "    for model in models:\n",
    "       models[model].fit(X_train, y_train)\n",
    "       y_pred = models[model].predict(X_test)\n",
    "       metrics_results[model] = {'r2_score': metrics.r2_score(y_test, y_pred), \\\n",
    "                                 'Mean absolute error': metrics.mean_absolute_error(y_test, y_pred), \\\n",
    "                                 'Mean squared error': metrics.mean_squared_error(y_test, y_pred), \\\n",
    "                                 'Square root of mean squared error': np.sqrt(metrics.mean_squared_error(y_test, y_pred)) \\\n",
    "                                }\n",
    "    return pd.DataFrame(metrics_results)"
   ]
  },
  {
   "cell_type": "code",
   "execution_count": 68,
   "metadata": {},
   "outputs": [
    {
     "data": {
      "text/html": [
       "<div>\n",
       "<style scoped>\n",
       "    .dataframe tbody tr th:only-of-type {\n",
       "        vertical-align: middle;\n",
       "    }\n",
       "\n",
       "    .dataframe tbody tr th {\n",
       "        vertical-align: top;\n",
       "    }\n",
       "\n",
       "    .dataframe thead th {\n",
       "        text-align: right;\n",
       "    }\n",
       "</style>\n",
       "<table border=\"1\" class=\"dataframe\">\n",
       "  <thead>\n",
       "    <tr style=\"text-align: right;\">\n",
       "      <th></th>\n",
       "      <th>OLS</th>\n",
       "      <th>RandomForest</th>\n",
       "    </tr>\n",
       "  </thead>\n",
       "  <tbody>\n",
       "    <tr>\n",
       "      <th>r2_score</th>\n",
       "      <td>8.110148e-01</td>\n",
       "      <td>7.331163e-01</td>\n",
       "    </tr>\n",
       "    <tr>\n",
       "      <th>Mean absolute error</th>\n",
       "      <td>4.423734e+03</td>\n",
       "      <td>5.183918e+03</td>\n",
       "    </tr>\n",
       "    <tr>\n",
       "      <th>Mean squared error</th>\n",
       "      <td>3.180144e+07</td>\n",
       "      <td>4.490978e+07</td>\n",
       "    </tr>\n",
       "    <tr>\n",
       "      <th>Square root of mean squared error</th>\n",
       "      <td>5.639276e+03</td>\n",
       "      <td>6.701476e+03</td>\n",
       "    </tr>\n",
       "  </tbody>\n",
       "</table>\n",
       "</div>"
      ],
      "text/plain": [
       "                                            OLS  RandomForest\n",
       "r2_score                           8.110148e-01  7.331163e-01\n",
       "Mean absolute error                4.423734e+03  5.183918e+03\n",
       "Mean squared error                 3.180144e+07  4.490978e+07\n",
       "Square root of mean squared error  5.639276e+03  6.701476e+03"
      ]
     },
     "execution_count": 68,
     "metadata": {},
     "output_type": "execute_result"
    }
   ],
   "source": [
    "# models with default settings and train and test on original data\n",
    "\n",
    "models = {'OLS' : LinearRegression(), \\\n",
    "          'RandomForest' : RandomForestRegressor(random_state=42)\\\n",
    "         }\n",
    "model_test(models, X_train, X_test, y_train, y_test)"
   ]
  },
  {
   "cell_type": "code",
   "execution_count": 69,
   "metadata": {},
   "outputs": [
    {
     "data": {
      "text/html": [
       "<div>\n",
       "<style scoped>\n",
       "    .dataframe tbody tr th:only-of-type {\n",
       "        vertical-align: middle;\n",
       "    }\n",
       "\n",
       "    .dataframe tbody tr th {\n",
       "        vertical-align: top;\n",
       "    }\n",
       "\n",
       "    .dataframe thead th {\n",
       "        text-align: right;\n",
       "    }\n",
       "</style>\n",
       "<table border=\"1\" class=\"dataframe\">\n",
       "  <thead>\n",
       "    <tr style=\"text-align: right;\">\n",
       "      <th></th>\n",
       "      <th>OLS</th>\n",
       "      <th>RandomForest</th>\n",
       "    </tr>\n",
       "  </thead>\n",
       "  <tbody>\n",
       "    <tr>\n",
       "      <th>r2_score</th>\n",
       "      <td>8.110148e-01</td>\n",
       "      <td>7.002251e-01</td>\n",
       "    </tr>\n",
       "    <tr>\n",
       "      <th>Mean absolute error</th>\n",
       "      <td>4.423734e+03</td>\n",
       "      <td>5.398295e+03</td>\n",
       "    </tr>\n",
       "    <tr>\n",
       "      <th>Mean squared error</th>\n",
       "      <td>3.180144e+07</td>\n",
       "      <td>5.044455e+07</td>\n",
       "    </tr>\n",
       "    <tr>\n",
       "      <th>Square root of mean squared error</th>\n",
       "      <td>5.639276e+03</td>\n",
       "      <td>7.102432e+03</td>\n",
       "    </tr>\n",
       "  </tbody>\n",
       "</table>\n",
       "</div>"
      ],
      "text/plain": [
       "                                            OLS  RandomForest\n",
       "r2_score                           8.110148e-01  7.002251e-01\n",
       "Mean absolute error                4.423734e+03  5.398295e+03\n",
       "Mean squared error                 3.180144e+07  5.044455e+07\n",
       "Square root of mean squared error  5.639276e+03  7.102432e+03"
      ]
     },
     "execution_count": 69,
     "metadata": {},
     "output_type": "execute_result"
    }
   ],
   "source": [
    "# models with default settings and train and test on scaled data\n",
    "scaler = StandardScaler()\n",
    "scaler.fit(X_train[['Starting Median Salary']])\n",
    "train_starting_median_salary_scaled = scaler.transform(X_train[['Starting Median Salary']])\n",
    "X_train_scaled = np.concatenate((train_starting_median_salary_scaled, \\\n",
    "                                X_train.drop(['Starting Median Salary'], axis = 1).to_numpy()), axis=1)\n",
    "test_starting_median_salary_scaled = scaler.transform(X_test[['Starting Median Salary']])\n",
    "X_test_scaled = np.concatenate((test_starting_median_salary_scaled, \\\n",
    "                                X_test.drop(['Starting Median Salary'], axis = 1).to_numpy()), axis=1)\n",
    "\n",
    "model_test(models, X_train_scaled, X_test_scaled, y_train, y_test)\n"
   ]
  },
  {
   "cell_type": "code",
   "execution_count": 70,
   "metadata": {},
   "outputs": [],
   "source": [
    "def gridsearchcv(estimator, param_grid, X_train, y_train):\n",
    "    grid = GridSearchCV(estimator, param_grid = param_grid)\n",
    "    grid.fit(X_train, y_train)\n",
    "    return grid.best_params_, grid.best_estimator_"
   ]
  },
  {
   "cell_type": "code",
   "execution_count": 71,
   "metadata": {},
   "outputs": [
    {
     "data": {
      "text/plain": [
       "({'n_estimators': 200},\n",
       " RandomForestRegressor(n_estimators=200, random_state=42))"
      ]
     },
     "execution_count": 71,
     "metadata": {},
     "output_type": "execute_result"
    }
   ],
   "source": [
    "# Using GridSearchCV to tune hyperparameters for models \n",
    "rf_params = {'n_estimators': [3, 5, 10, 20, 30, 40, 50, 60, 70, 80, 90, 100, 150, 200]}\n",
    "rf_best_params, rf_best_estimator = gridsearchcv(RandomForestRegressor(random_state=42), rf_params, X_train, y_train)\n",
    "rf_best_params, rf_best_estimator"
   ]
  },
  {
   "cell_type": "code",
   "execution_count": 72,
   "metadata": {},
   "outputs": [
    {
     "data": {
      "text/html": [
       "<div>\n",
       "<style scoped>\n",
       "    .dataframe tbody tr th:only-of-type {\n",
       "        vertical-align: middle;\n",
       "    }\n",
       "\n",
       "    .dataframe tbody tr th {\n",
       "        vertical-align: top;\n",
       "    }\n",
       "\n",
       "    .dataframe thead th {\n",
       "        text-align: right;\n",
       "    }\n",
       "</style>\n",
       "<table border=\"1\" class=\"dataframe\">\n",
       "  <thead>\n",
       "    <tr style=\"text-align: right;\">\n",
       "      <th></th>\n",
       "      <th>OLS</th>\n",
       "      <th>RandomForest</th>\n",
       "    </tr>\n",
       "  </thead>\n",
       "  <tbody>\n",
       "    <tr>\n",
       "      <th>r2_score</th>\n",
       "      <td>8.110148e-01</td>\n",
       "      <td>7.098800e-01</td>\n",
       "    </tr>\n",
       "    <tr>\n",
       "      <th>Mean absolute error</th>\n",
       "      <td>4.423734e+03</td>\n",
       "      <td>5.351232e+03</td>\n",
       "    </tr>\n",
       "    <tr>\n",
       "      <th>Mean squared error</th>\n",
       "      <td>3.180144e+07</td>\n",
       "      <td>4.881987e+07</td>\n",
       "    </tr>\n",
       "    <tr>\n",
       "      <th>Square root of mean squared error</th>\n",
       "      <td>5.639276e+03</td>\n",
       "      <td>6.987122e+03</td>\n",
       "    </tr>\n",
       "  </tbody>\n",
       "</table>\n",
       "</div>"
      ],
      "text/plain": [
       "                                            OLS  RandomForest\n",
       "r2_score                           8.110148e-01  7.098800e-01\n",
       "Mean absolute error                4.423734e+03  5.351232e+03\n",
       "Mean squared error                 3.180144e+07  4.881987e+07\n",
       "Square root of mean squared error  5.639276e+03  6.987122e+03"
      ]
     },
     "execution_count": 72,
     "metadata": {},
     "output_type": "execute_result"
    }
   ],
   "source": [
    "models_tuned = {'OLS' : LinearRegression(), \\\n",
    "                'RandomForest' : rf_best_estimator  \\\n",
    "               }\n",
    "model_test(models_tuned, X_train_scaled, X_test_scaled, y_train, y_test)"
   ]
  },
  {
   "cell_type": "markdown",
   "metadata": {},
   "source": [
    "Conclusion: \n",
    "By observing the metrics for the models, we can conclude that Linear Model perform better than Random Forest Model.\n",
    "By tuning the hyperparameter n_estimators, Random Forest Model performs better than taking the defalt value."
   ]
  },
  {
   "cell_type": "code",
   "execution_count": 73,
   "metadata": {},
   "outputs": [
    {
     "data": {
      "text/plain": [
       "Index(['Starting Median Salary', 'School Type_Engineering',\n",
       "       'School Type_Ivy League', 'School Type_Liberal Arts',\n",
       "       'School Type_Party', 'School Type_State', 'Region_California',\n",
       "       'Region_Midwestern', 'Region_Northeastern', 'Region_Southern',\n",
       "       'Region_Western'],\n",
       "      dtype='object')"
      ]
     },
     "execution_count": 73,
     "metadata": {},
     "output_type": "execute_result"
    }
   ],
   "source": [
    "#use Starting Median Salary predicting Mid-Career Median Salary by Linear Model\n",
    "X_train.columns"
   ]
  },
  {
   "cell_type": "code",
   "execution_count": 74,
   "metadata": {},
   "outputs": [
    {
     "data": {
      "text/html": [
       "<div>\n",
       "<style scoped>\n",
       "    .dataframe tbody tr th:only-of-type {\n",
       "        vertical-align: middle;\n",
       "    }\n",
       "\n",
       "    .dataframe tbody tr th {\n",
       "        vertical-align: top;\n",
       "    }\n",
       "\n",
       "    .dataframe thead th {\n",
       "        text-align: right;\n",
       "    }\n",
       "</style>\n",
       "<table border=\"1\" class=\"dataframe\">\n",
       "  <thead>\n",
       "    <tr style=\"text-align: right;\">\n",
       "      <th></th>\n",
       "      <th>OLS</th>\n",
       "    </tr>\n",
       "  </thead>\n",
       "  <tbody>\n",
       "    <tr>\n",
       "      <th>Mean absolute error</th>\n",
       "      <td>4.593745e+03</td>\n",
       "    </tr>\n",
       "    <tr>\n",
       "      <th>Mean squared error</th>\n",
       "      <td>3.672695e+07</td>\n",
       "    </tr>\n",
       "    <tr>\n",
       "      <th>Square root of mean squared error</th>\n",
       "      <td>6.060276e+03</td>\n",
       "    </tr>\n",
       "    <tr>\n",
       "      <th>r2_score</th>\n",
       "      <td>7.817441e-01</td>\n",
       "    </tr>\n",
       "  </tbody>\n",
       "</table>\n",
       "</div>"
      ],
      "text/plain": [
       "                                            OLS\n",
       "Mean absolute error                4.593745e+03\n",
       "Mean squared error                 3.672695e+07\n",
       "Square root of mean squared error  6.060276e+03\n",
       "r2_score                           7.817441e-01"
      ]
     },
     "execution_count": 74,
     "metadata": {},
     "output_type": "execute_result"
    }
   ],
   "source": [
    "#use only Starting Median Salary predicting Mid-Career Median Salary by Linear Model\n",
    "model = {'OLS':LinearRegression()}\n",
    "model_test(model, train_starting_median_salary_scaled, test_starting_median_salary_scaled, y_train, y_test)"
   ]
  },
  {
   "cell_type": "markdown",
   "metadata": {},
   "source": [
    "Conclusion:\n",
    "Including dummy varaibles in X, the linear model performs better than not inluding them."
   ]
  }
 ],
 "metadata": {
  "kernelspec": {
   "display_name": "Python 3",
   "language": "python",
   "name": "python3"
  },
  "language_info": {
   "codemirror_mode": {
    "name": "ipython",
    "version": 3
   },
   "file_extension": ".py",
   "mimetype": "text/x-python",
   "name": "python",
   "nbconvert_exporter": "python",
   "pygments_lexer": "ipython3",
   "version": "3.8.5"
  }
 },
 "nbformat": 4,
 "nbformat_minor": 4
}
